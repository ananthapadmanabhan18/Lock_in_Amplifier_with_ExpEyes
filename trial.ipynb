{
 "cells": [
  {
   "cell_type": "code",
   "execution_count": 1,
   "metadata": {},
   "outputs": [
    {
     "name": "stdout",
     "output_type": "stream",
     "text": [
      "Device opening Error\n"
     ]
    },
    {
     "name": "stderr",
     "output_type": "stream",
     "text": [
      "d:\\Libraries\\Python3.12\\Lib\\site-packages\\eyes17\\eyes.py:473: SyntaxWarning: invalid escape sequence '\\*'\n",
      "  \"\"\"\n",
      "d:\\Libraries\\Python3.12\\Lib\\site-packages\\eyes17\\eyes.py:627: SyntaxWarning: invalid escape sequence '\\*'\n",
      "  \"\"\"\n",
      "d:\\Libraries\\Python3.12\\Lib\\site-packages\\eyes17\\eyes.py:755: SyntaxWarning: invalid escape sequence '\\*'\n",
      "  \"\"\"\n",
      "d:\\Libraries\\Python3.12\\Lib\\site-packages\\eyes17\\eyes.py:877: SyntaxWarning: invalid escape sequence '\\*'\n",
      "  \"\"\"\n",
      "d:\\Libraries\\Python3.12\\Lib\\site-packages\\eyes17\\eyes.py:923: SyntaxWarning: invalid escape sequence '\\*'\n",
      "  \"\"\"\n",
      "d:\\Libraries\\Python3.12\\Lib\\site-packages\\eyes17\\eyes.py:1366: SyntaxWarning: invalid escape sequence '\\*'\n",
      "  \"\"\"\n",
      "d:\\Libraries\\Python3.12\\Lib\\site-packages\\eyes17\\eyes.py:1802: SyntaxWarning: invalid escape sequence '\\*'\n",
      "  \"\"\"\n",
      "d:\\Libraries\\Python3.12\\Lib\\site-packages\\eyes17\\eyes.py:1921: SyntaxWarning: invalid escape sequence '\\*'\n",
      "  \"\"\"\n"
     ]
    },
    {
     "ename": "AttributeError",
     "evalue": "'NoneType' object has no attribute 'write'",
     "output_type": "error",
     "traceback": [
      "\u001b[1;31m---------------------------------------------------------------------------\u001b[0m",
      "\u001b[1;31mAttributeError\u001b[0m                            Traceback (most recent call last)",
      "Cell \u001b[1;32mIn[1], line 3\u001b[0m\n\u001b[0;32m      1\u001b[0m \u001b[38;5;28;01mimport\u001b[39;00m \u001b[38;5;21;01meyes17\u001b[39;00m\u001b[38;5;21;01m.\u001b[39;00m\u001b[38;5;21;01meyes\u001b[39;00m \n\u001b[0;32m      2\u001b[0m p\u001b[38;5;241m=\u001b[39meyes17\u001b[38;5;241m.\u001b[39meyes\u001b[38;5;241m.\u001b[39mopen()\n\u001b[1;32m----> 3\u001b[0m \u001b[43mp\u001b[49m\u001b[38;5;241;43m.\u001b[39;49m\u001b[43mset_pv1\u001b[49m\u001b[43m(\u001b[49m\u001b[38;5;241;43m2\u001b[39;49m\u001b[43m)\u001b[49m\n\u001b[0;32m      4\u001b[0m v\u001b[38;5;241m=\u001b[39mp\u001b[38;5;241m.\u001b[39mget_voltage(\u001b[38;5;124m'\u001b[39m\u001b[38;5;124mSEN\u001b[39m\u001b[38;5;124m'\u001b[39m)\n\u001b[0;32m      5\u001b[0m \u001b[38;5;28mprint\u001b[39m(v)\n",
      "File \u001b[1;32md:\\Libraries\\Python3.12\\Lib\\site-packages\\eyes17\\eyes.py:3043\u001b[0m, in \u001b[0;36mInterface.set_pv1\u001b[1;34m(self, val)\u001b[0m\n\u001b[0;32m   3029\u001b[0m \u001b[38;5;28;01mdef\u001b[39;00m \u001b[38;5;21mset_pv1\u001b[39m(\u001b[38;5;28mself\u001b[39m, val):\n\u001b[0;32m   3030\u001b[0m \u001b[38;5;250m    \u001b[39m\u001b[38;5;124;03m\"\"\"\u001b[39;00m\n\u001b[0;32m   3031\u001b[0m \u001b[38;5;124;03m    Set the voltage on PV1\u001b[39;00m\n\u001b[0;32m   3032\u001b[0m \u001b[38;5;124;03m    12-bit DAC...  -5V to 5V\u001b[39;00m\n\u001b[1;32m   (...)\u001b[0m\n\u001b[0;32m   3041\u001b[0m \n\u001b[0;32m   3042\u001b[0m \u001b[38;5;124;03m    \"\"\"\u001b[39;00m\n\u001b[1;32m-> 3043\u001b[0m     \u001b[38;5;28;01mreturn\u001b[39;00m \u001b[38;5;28;43mself\u001b[39;49m\u001b[38;5;241;43m.\u001b[39;49m\u001b[43mDAC\u001b[49m\u001b[38;5;241;43m.\u001b[39;49m\u001b[43msetVoltage\u001b[49m\u001b[43m(\u001b[49m\u001b[38;5;124;43m'\u001b[39;49m\u001b[38;5;124;43mPV1\u001b[39;49m\u001b[38;5;124;43m'\u001b[39;49m\u001b[43m,\u001b[49m\u001b[43m \u001b[49m\u001b[43mval\u001b[49m\u001b[43m)\u001b[49m\n",
      "File \u001b[1;32md:\\Libraries\\Python3.12\\Lib\\site-packages\\eyes17\\Peripherals.py:681\u001b[0m, in \u001b[0;36mPWMDAC.setVoltage\u001b[1;34m(self, name, v)\u001b[0m\n\u001b[0;32m    679\u001b[0m chan \u001b[38;5;241m=\u001b[39m \u001b[38;5;28mself\u001b[39m\u001b[38;5;241m.\u001b[39mCHANS[name]\n\u001b[0;32m    680\u001b[0m v \u001b[38;5;241m=\u001b[39m \u001b[38;5;28mint\u001b[39m(\u001b[38;5;28mround\u001b[39m(chan\u001b[38;5;241m.\u001b[39mVToCode(v)))\n\u001b[1;32m--> 681\u001b[0m \u001b[38;5;28;01mreturn\u001b[39;00m \u001b[38;5;28;43mself\u001b[39;49m\u001b[38;5;241;43m.\u001b[39;49m\u001b[43m__setRawVoltage__\u001b[49m\u001b[43m(\u001b[49m\u001b[43mname\u001b[49m\u001b[43m,\u001b[49m\u001b[43m \u001b[49m\u001b[43mv\u001b[49m\u001b[43m)\u001b[49m\n",
      "File \u001b[1;32md:\\Libraries\\Python3.12\\Lib\\site-packages\\eyes17\\Peripherals.py:689\u001b[0m, in \u001b[0;36mPWMDAC.__setRawVoltage__\u001b[1;34m(self, name, v)\u001b[0m\n\u001b[0;32m    687\u001b[0m CHAN \u001b[38;5;241m=\u001b[39m \u001b[38;5;28mself\u001b[39m\u001b[38;5;241m.\u001b[39mCHANS[name]\n\u001b[0;32m    688\u001b[0m val \u001b[38;5;241m=\u001b[39m \u001b[38;5;28mself\u001b[39m\u001b[38;5;241m.\u001b[39mCHANS[name]\u001b[38;5;241m.\u001b[39mapply_calibration(v)\n\u001b[1;32m--> 689\u001b[0m \u001b[38;5;28;43mself\u001b[39;49m\u001b[38;5;241;43m.\u001b[39;49m\u001b[43mH\u001b[49m\u001b[38;5;241;43m.\u001b[39;49m\u001b[43m__sendByte__\u001b[49m\u001b[43m(\u001b[49m\u001b[43mCP\u001b[49m\u001b[38;5;241;43m.\u001b[39;49m\u001b[43mDAC\u001b[49m\u001b[43m)\u001b[49m  \u001b[38;5;66;03m# DAC write coming through.(PWM DAC)\u001b[39;00m\n\u001b[0;32m    690\u001b[0m \u001b[38;5;28mself\u001b[39m\u001b[38;5;241m.\u001b[39mH\u001b[38;5;241m.\u001b[39m__sendByte__(CP\u001b[38;5;241m.\u001b[39mSET_DAC)\n\u001b[0;32m    691\u001b[0m \u001b[38;5;28;01mif\u001b[39;00m name \u001b[38;5;241m==\u001b[39m \u001b[38;5;124m'\u001b[39m\u001b[38;5;124mPV1\u001b[39m\u001b[38;5;124m'\u001b[39m:\n",
      "File \u001b[1;32md:\\Libraries\\Python3.12\\Lib\\site-packages\\eyes17\\packet_handler.py:209\u001b[0m, in \u001b[0;36mHandler.__sendByte__\u001b[1;34m(self, val)\u001b[0m\n\u001b[0;32m    207\u001b[0m \t\u001b[38;5;28;01melse\u001b[39;00m:\u001b[38;5;28mself\u001b[39m\u001b[38;5;241m.\u001b[39mburstBuffer\u001b[38;5;241m+\u001b[39m\u001b[38;5;241m=\u001b[39mCP\u001b[38;5;241m.\u001b[39mByte\u001b[38;5;241m.\u001b[39mpack(val)\n\u001b[0;32m    208\u001b[0m \u001b[38;5;28;01melse\u001b[39;00m:\n\u001b[1;32m--> 209\u001b[0m \t\u001b[38;5;28;01mif\u001b[39;00m \u001b[38;5;129;01mnot\u001b[39;00m \u001b[38;5;28mself\u001b[39m\u001b[38;5;241m.\u001b[39mloadBurst:\u001b[38;5;28;43mself\u001b[39;49m\u001b[38;5;241;43m.\u001b[39;49m\u001b[43mfd\u001b[49m\u001b[38;5;241;43m.\u001b[39;49m\u001b[43mwrite\u001b[49m(val)\n\u001b[0;32m    210\u001b[0m \t\u001b[38;5;28;01melse\u001b[39;00m:\u001b[38;5;28mself\u001b[39m\u001b[38;5;241m.\u001b[39mburstBuffer\u001b[38;5;241m+\u001b[39m\u001b[38;5;241m=\u001b[39mval\n",
      "\u001b[1;31mAttributeError\u001b[0m: 'NoneType' object has no attribute 'write'"
     ]
    }
   ],
   "source": [
    "import eyes17.eyes \n",
    "p=eyes17.eyes.open()\n",
    "p.set_pv1(2)\n",
    "v=p.get_voltage('SEN')\n",
    "print(v)"
   ]
  }
 ],
 "metadata": {
  "kernelspec": {
   "display_name": "Python 3",
   "language": "python",
   "name": "python3"
  },
  "language_info": {
   "codemirror_mode": {
    "name": "ipython",
    "version": 3
   },
   "file_extension": ".py",
   "mimetype": "text/x-python",
   "name": "python",
   "nbconvert_exporter": "python",
   "pygments_lexer": "ipython3",
   "version": "3.12.1"
  }
 },
 "nbformat": 4,
 "nbformat_minor": 2
}
