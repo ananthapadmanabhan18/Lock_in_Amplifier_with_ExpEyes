{
 "cells": [
  {
   "cell_type": "code",
   "execution_count": 42,
   "metadata": {},
   "outputs": [
    {
     "name": "stdout",
     "output_type": "stream",
     "text": [
      "Device opening Error\n"
     ]
    },
    {
     "ename": "AttributeError",
     "evalue": "'NoneType' object has no attribute 'set_pv1'",
     "output_type": "error",
     "traceback": [
      "\u001b[1;31m---------------------------------------------------------------------------\u001b[0m",
      "\u001b[1;31mAttributeError\u001b[0m                            Traceback (most recent call last)",
      "\u001b[1;32mc:\\Users\\parsh\\OneDrive\\Documents\\sem 8\\open lab\\Integrated_Lab_II\\trial.ipynb Cell 1\u001b[0m line \u001b[0;36m3\n\u001b[0;32m      <a href='vscode-notebook-cell:/c%3A/Users/parsh/OneDrive/Documents/sem%208/open%20lab/Integrated_Lab_II/trial.ipynb#W3sZmlsZQ%3D%3D?line=0'>1</a>\u001b[0m \u001b[39mimport\u001b[39;00m \u001b[39meyes17\u001b[39;00m\u001b[39m.\u001b[39;00m\u001b[39meyes\u001b[39;00m \n\u001b[0;32m      <a href='vscode-notebook-cell:/c%3A/Users/parsh/OneDrive/Documents/sem%208/open%20lab/Integrated_Lab_II/trial.ipynb#W3sZmlsZQ%3D%3D?line=1'>2</a>\u001b[0m p\u001b[39m=\u001b[39meyes17\u001b[39m.\u001b[39meyes\u001b[39m.\u001b[39mopen()\n\u001b[1;32m----> <a href='vscode-notebook-cell:/c%3A/Users/parsh/OneDrive/Documents/sem%208/open%20lab/Integrated_Lab_II/trial.ipynb#W3sZmlsZQ%3D%3D?line=2'>3</a>\u001b[0m p\u001b[39m.\u001b[39;49mset_pv1(\u001b[39m2\u001b[39m)\n\u001b[0;32m      <a href='vscode-notebook-cell:/c%3A/Users/parsh/OneDrive/Documents/sem%208/open%20lab/Integrated_Lab_II/trial.ipynb#W3sZmlsZQ%3D%3D?line=3'>4</a>\u001b[0m v\u001b[39m=\u001b[39mp\u001b[39m.\u001b[39mget_voltage(\u001b[39m'\u001b[39m\u001b[39mSEN\u001b[39m\u001b[39m'\u001b[39m)\n\u001b[0;32m      <a href='vscode-notebook-cell:/c%3A/Users/parsh/OneDrive/Documents/sem%208/open%20lab/Integrated_Lab_II/trial.ipynb#W3sZmlsZQ%3D%3D?line=4'>5</a>\u001b[0m \u001b[39mprint\u001b[39m(v)\n",
      "\u001b[1;31mAttributeError\u001b[0m: 'NoneType' object has no attribute 'set_pv1'"
     ]
    }
   ],
   "source": [
    "import eyes17.eyes \n",
    "p=eyes17.eyes.open()\n",
    "p.set_pv1(2)\n",
    "v=p.get_voltage('SEN')\n",
    "print(v)"
   ]
  }
 ],
 "metadata": {
  "language_info": {
   "name": "python"
  }
 },
 "nbformat": 4,
 "nbformat_minor": 2
}
